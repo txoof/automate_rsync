{
 "cells": [
  {
   "cell_type": "code",
   "execution_count": 20,
   "metadata": {},
   "outputs": [
    {
     "name": "stdout",
     "output_type": "stream",
     "text": [
      "The autoreload extension is already loaded. To reload it, use:\n",
      "  %reload_ext autoreload\n"
     ]
    }
   ],
   "source": [
    "%load_ext autoreload\n",
    "%autoreload 2\n",
    "%reload_ext autoreload"
   ]
  },
  {
   "cell_type": "code",
   "execution_count": 21,
   "metadata": {},
   "outputs": [],
   "source": [
    "import ArgConfigParse\n",
    "import logging\n",
    "import logging.config\n",
    "import constants\n",
    "import sys\n",
    "from os import chdir\n",
    "import shutil\n",
    "import re"
   ]
  },
  {
   "cell_type": "code",
   "execution_count": 22,
   "metadata": {},
   "outputs": [],
   "source": [
    "def main():\n",
    "    #### CONSTANTS ####\n",
    "    # pull the absolute path from the constants file that resides in the root of the project\n",
    "    absPath = constants.absPath\n",
    "    # change the working directory - simplifies all the other path work later\n",
    "    chdir(absPath)\n",
    "    \n",
    "    version = constants.version\n",
    "    app_name = constants.app_name\n",
    "    app_long_name = constants.app_long_name\n",
    "    \n",
    "    # set the base log level\n",
    "    loglevel = 50\n",
    "            \n",
    "    ## CONFIGURATION FILES ##\n",
    "    # logging configuration file\n",
    "    logging_cfg = constants.logging_cfg\n",
    "    \n",
    "    # default base configuration file\n",
    "    base_cfg = ArgConfigParse.fullPath(constants.default_cfg_name)\n",
    "    user_cfg = ArgConfigParse.fullPath(constants.user_cfg)\n",
    "    \n",
    "    # Setup logging\n",
    "    logging.getLogger(__name__)\n",
    "    logging.config.fileConfig(logging_cfg)\n",
    "    logging.root.setLevel(loglevel)\n",
    "    \n",
    "    # record updates to config file\n",
    "    update_config = False\n",
    "    \n",
    "    args = ArgConfigParse.CmdArgs()\n",
    "    args.add_argument('-c', '--config', dest='config', ignore_none=True, default=None,\n",
    "                      metavar='cfg.ini',\n",
    "                      help='Use specified configuration file')\n",
    "    args.add_argument('-v', action='count', default=0, dest='verbose', ignore_none=True,\n",
    "                      help='increase verbosity of logging by adding additional \\'-v\\'')\n",
    "    args.add_argument('-V', '--version', ignore_none=True, dest='version', action='store_true',\n",
    "                      help='display version number and exit')\n",
    "    args.add_argument('-i', '--interactive', ignore_none=True, dest='interactive', action='store_true',\n",
    "                      help='interactively add rsync jobs to config file')\n",
    "\n",
    "    # handle basic command line arguments\n",
    "    args.parse_args()\n",
    "    \n",
    "    print(args.options)\n",
    "    if args.options.version:\n",
    "        print(f'{app_name} version {version}')\n",
    "        sys.exit(0)\n",
    "    \n",
    "    logging.root.setLevel(loglevel-args.options.verbose*10)\n",
    "    \n",
    "    \n",
    "    logging.root.setLevel(10)\n",
    "    \n",
    "    logging.debug(f'log level set to {logging.root.getEffectiveLevel()}')\n",
    "    \n",
    "    # use the config from the command line\n",
    "    if args.options.config:\n",
    "        user_cfg = ArgConfigParse.fullPath(args.options.config)\n",
    "    elif not user_cfg.exists():\n",
    "        # create the config file directory\n",
    "        user_cfg.parent.mkdir(parents=True, exist_ok=True)\n",
    "        update_config = True\n",
    "        \n",
    "    config_file_list = [base_cfg, user_cfg]\n",
    "    \n",
    "    config_file = ArgConfigParse.ConfigFile(config_file_list)\n",
    "    config_file.parse_config()\n",
    "    \n",
    "    # prompt user to create configuration file\n",
    "    config = ArgConfigParse.merge_dict(config_file.config_dict, args.nested_opts_dict)\n",
    "    \n",
    "    \n",
    "    \n",
    "    if update_config:\n",
    "        logging.info(f'updating configuration file: {user_cfg}')\n",
    "        ArgConfigParse.write(config, user_cfg)\n",
    "    \n",
    "    \n",
    "    return config, config_file, args"
   ]
  },
  {
   "cell_type": "code",
   "execution_count": 23,
   "metadata": {},
   "outputs": [
    {
     "name": "stdout",
     "output_type": "stream",
     "text": [
      "Namespace(config=None, interactive=False, verbose=0, version=False)\n",
      "21:11:21 <ipython-input-22-e5555c6d0fa1>:main:55:DEBUG - log level set to 10\n",
      "21:11:21 ArgConfigParse:config_files:175:INFO - processing config files: [PosixPath('/Users/aaronciuffo/Documents/src/automate_rsync/automate_rsync.ini')]\n",
      "21:11:21 ArgConfigParse:config_files:177:WARNING - config files not found: [PosixPath('/Users/aaronciuffo/.config/com.txoof.automate_rsync/automate_rsync.ini')]\n",
      "21:11:21 <ipython-input-22-e5555c6d0fa1>:main:76:INFO - updating configuration file: /Users/aaronciuffo/.config/com.txoof.automate_rsync/automate_rsync.ini\n",
      "21:11:21 ArgConfigParse:write:48:DEBUG - adding %BaseConfig to config\n",
      "21:11:21 ArgConfigParse:write:48:DEBUG - adding %sshOptions to config\n",
      "21:11:21 ArgConfigParse:write:46:DEBUG - skipping: __cmd_line\n",
      "21:11:21 ArgConfigParse:write:51:DEBUG - writing configuration to /Users/aaronciuffo/.config/com.txoof.automate_rsync/automate_rsync.ini\n"
     ]
    }
   ],
   "source": [
    "if __name__ == \"__main__\":\n",
    "    c, cf, a = main()"
   ]
  },
  {
   "cell_type": "code",
   "execution_count": null,
   "metadata": {},
   "outputs": [],
   "source": [
    "c"
   ]
  },
  {
   "cell_type": "code",
   "execution_count": null,
   "metadata": {},
   "outputs": [],
   "source": [
    "a.nested_opts_dict"
   ]
  },
  {
   "cell_type": "code",
   "execution_count": null,
   "metadata": {},
   "outputs": [],
   "source": [
    "o.parent"
   ]
  },
  {
   "cell_type": "code",
   "execution_count": null,
   "metadata": {},
   "outputs": [],
   "source": [
    "c = ArgConfigParse.ConfigFile(['./automate_rsync.ini'])"
   ]
  },
  {
   "cell_type": "code",
   "execution_count": null,
   "metadata": {},
   "outputs": [],
   "source": [
    "c.parse_config()"
   ]
  },
  {
   "cell_type": "code",
   "execution_count": null,
   "metadata": {},
   "outputs": [],
   "source": [
    "re.split('\\s{0,},\\s{0,}', c.config_dict['%BaseConfig']['rsyncoptions'])"
   ]
  },
  {
   "cell_type": "code",
   "execution_count": null,
   "metadata": {},
   "outputs": [],
   "source": []
  },
  {
   "cell_type": "code",
   "execution_count": null,
   "metadata": {},
   "outputs": [],
   "source": [
    "s = '-a, -z  ,-v,-h'\n",
    "re.split('\\s{0,},\\s{0,}', s)"
   ]
  },
  {
   "cell_type": "code",
   "execution_count": null,
   "metadata": {},
   "outputs": [],
   "source": [
    "p = ArgConfigParse.fullPath('./foo/bar/text.txt')"
   ]
  },
  {
   "cell_type": "code",
   "execution_count": null,
   "metadata": {},
   "outputs": [],
   "source": [
    "p.parent.mkdir(parents=True, exist_ok=True)"
   ]
  },
  {
   "cell_type": "code",
   "execution_count": null,
   "metadata": {},
   "outputs": [],
   "source": [
    "p.parents.mkdir(parents=True, exist_ok=True)"
   ]
  },
  {
   "cell_type": "code",
   "execution_count": null,
   "metadata": {},
   "outputs": [],
   "source": [
    "o.nested_opts_dict"
   ]
  },
  {
   "cell_type": "code",
   "execution_count": null,
   "metadata": {},
   "outputs": [],
   "source": [
    "from sys import argv"
   ]
  },
  {
   "cell_type": "code",
   "execution_count": null,
   "metadata": {},
   "outputs": [],
   "source": [
    "argv"
   ]
  },
  {
   "cell_type": "code",
   "execution_count": null,
   "metadata": {},
   "outputs": [],
   "source": [
    "argv.pop()"
   ]
  },
  {
   "cell_type": "code",
   "execution_count": null,
   "metadata": {},
   "outputs": [],
   "source": [
    "sys.argv.append(\"-vvvv\")"
   ]
  },
  {
   "cell_type": "code",
   "execution_count": null,
   "metadata": {},
   "outputs": [],
   "source": [
    "argv.append('-c')"
   ]
  },
  {
   "cell_type": "code",
   "execution_count": null,
   "metadata": {},
   "outputs": [],
   "source": [
    "argv.append('foo.ini')"
   ]
  },
  {
   "cell_type": "code",
   "execution_count": null,
   "metadata": {},
   "outputs": [],
   "source": []
  }
 ],
 "metadata": {
  "kernelspec": {
   "display_name": "automate_rsync-d-A0v8x-",
   "language": "python",
   "name": "automate_rsync-d-a0v8x-"
  },
  "language_info": {
   "codemirror_mode": {
    "name": "ipython",
    "version": 3
   },
   "file_extension": ".py",
   "mimetype": "text/x-python",
   "name": "python",
   "nbconvert_exporter": "python",
   "pygments_lexer": "ipython3",
   "version": "3.8.2"
  }
 },
 "nbformat": 4,
 "nbformat_minor": 2
}
