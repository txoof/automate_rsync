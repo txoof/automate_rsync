{
 "cells": [
  {
   "cell_type": "code",
   "execution_count": 1,
   "metadata": {},
   "outputs": [],
   "source": [
    "import ArgConfigParse\n",
    "import logging\n",
    "import logging.config\n",
    "import constants\n",
    "import sys\n",
    "from os import chdir\n",
    "import shutil\n",
    "import re"
   ]
  },
  {
   "cell_type": "code",
   "execution_count": null,
   "metadata": {},
   "outputs": [],
   "source": [
    "def create_config():\n",
    "    logging.debug('create configuration here')\n",
    "#     config_dict = {'%BaseConfig':{}, \n",
    "#                    '%sshOptions': {}}\n",
    "    \n",
    "#     config_dict['%BaseConfig']['rsyncbin'] = shutil.which('rsync')\n",
    "#     config_dict['%BaseConfig']['rsyncoptions'] = '-avh'\n",
    "#     config_dict['%BaseConfig']\n",
    "    \n",
    "    "
   ]
  },
  {
   "cell_type": "code",
   "execution_count": 5,
   "metadata": {},
   "outputs": [],
   "source": [
    "def main():\n",
    "    #### CONSTANTS ####\n",
    "    # pull the absolute path from the constants file that resides in the root of the project\n",
    "    absPath = constants.absPath\n",
    "    # change the working directory - simplifies all the other path work later\n",
    "    chdir(absPath)\n",
    "    \n",
    "    version = constants.version\n",
    "    app_name = constants.app_name\n",
    "    app_long_name = constants.app_long_name\n",
    "    \n",
    "    # set the base log level\n",
    "    loglevel = 50\n",
    "            \n",
    "    ## CONFIGURATION FILES ##\n",
    "    # logging configuration file\n",
    "    logging_cfg = constants.logging_cfg\n",
    "    \n",
    "    # default base configuration file\n",
    "    base_cfg = ArgConfigParse.fullPath(constants.default_cfg_name)\n",
    "    user_cfg = ArgConfigParse.fullPath(constants.user_cfg)\n",
    "    \n",
    "    # Setup logging\n",
    "    logging.getLogger(__name__)\n",
    "    logging.config.fileConfig(logging_cfg)\n",
    "    logging.root.setLevel(loglevel)\n",
    "    \n",
    "    args = ArgConfigParse.CmdArgs()\n",
    "    args.add_argument('-c', '--config', dest='config', ignore_none=True, default=None,\n",
    "                      metavar='cfg.ini',\n",
    "                      help='Use specified configuration file')\n",
    "    args.add_argument('-v', action='count', default=0, dest='verbose', ignore_none=True,\n",
    "                      help='increase verbosity of logging by adding additional \\'-v\\'')\n",
    "    args.add_argument('-V', '--version', ignore_none=True, dest='version', action='store_true',\n",
    "                      help='display version number and exit')\n",
    "\n",
    "    # handle basic command line arguments\n",
    "    args.parse_args()\n",
    "    \n",
    "    print(args.options)\n",
    "    if args.options.version:\n",
    "        print(f'{app_name} version {version}')\n",
    "        sys.exit(0)\n",
    "    \n",
    "    logging.root.setLevel(loglevel-args.options.verbose*10)\n",
    "    \n",
    "    \n",
    "    logging.root.setLevel(10)\n",
    "    \n",
    "    logging.debug(f'log level set to {logging.root.getEffectiveLevel()}')\n",
    "    \n",
    "    # use the config from the command line\n",
    "    if args.options.config:\n",
    "        user_cfg = ArgConfigParse.fullPath(args.options.config)\n",
    "    elif not user_cfg.exists():\n",
    "        # create the config file directory\n",
    "        user_cfg.parent.mkdir(parents=True, exist_ok=True)\n",
    "        \n",
    "    config_files = [base_cfg, user_cfg]\n",
    "    \n",
    "    config = ArgConfigParse.ConfigFile(config_files)\n",
    "    config.parse_config()\n",
    "    \n",
    "    # prompt user to create configuration file\n",
    "\n",
    "    \n",
    "    \n",
    "    return config, args"
   ]
  },
  {
   "cell_type": "code",
   "execution_count": 6,
   "metadata": {},
   "outputs": [
    {
     "name": "stdout",
     "output_type": "stream",
     "text": [
      "Namespace(config=None, verbose=0, version=False)\n",
      "14:20:08 <ipython-input-5-521d2999ccca>:main:50:DEBUG - log level set to 10\n",
      "14:20:08 ArgConfigParse:config_files:144:INFO - processing config files: [PosixPath('/Users/aaronciuffo/Documents/src/automate_rsync/automate_rsync.ini')]\n",
      "14:20:08 ArgConfigParse:config_files:146:WARNING - config files not found: [PosixPath('/Users/aaronciuffo/.config/com.txoof.automate_rsync/automate_rsync.ini')]\n"
     ]
    }
   ],
   "source": [
    "if __name__ == \"__main__\":\n",
    "    c, a = main()"
   ]
  },
  {
   "cell_type": "code",
   "execution_count": 8,
   "metadata": {},
   "outputs": [
    {
     "data": {
      "text/plain": [
       "{'%BaseConfig': {'rsyncbin': '/usr/bin/rsync',\n",
       "  'rsyncoptions': '-a, -z, -h',\n",
       "  'deleteoptions': '--delete-excluded'},\n",
       " '%sshOptions': {}}"
      ]
     },
     "execution_count": 8,
     "metadata": {},
     "output_type": "execute_result"
    }
   ],
   "source": [
    "c.config_dict"
   ]
  },
  {
   "cell_type": "code",
   "execution_count": 11,
   "metadata": {},
   "outputs": [
    {
     "data": {
      "text/plain": [
       "{'__cmd_line': {}}"
      ]
     },
     "execution_count": 11,
     "metadata": {},
     "output_type": "execute_result"
    }
   ],
   "source": [
    "a.nested_opts_dict"
   ]
  },
  {
   "cell_type": "code",
   "execution_count": null,
   "metadata": {},
   "outputs": [],
   "source": [
    "o.parent"
   ]
  },
  {
   "cell_type": "code",
   "execution_count": null,
   "metadata": {},
   "outputs": [],
   "source": [
    "c = ArgConfigParse.ConfigFile(['./automate_rsync.ini'])"
   ]
  },
  {
   "cell_type": "code",
   "execution_count": null,
   "metadata": {},
   "outputs": [],
   "source": [
    "c.parse_config()"
   ]
  },
  {
   "cell_type": "code",
   "execution_count": null,
   "metadata": {},
   "outputs": [],
   "source": [
    "re.split('\\s{0,},\\s{0,}', c.config_dict['%BaseConfig']['rsyncoptions'])"
   ]
  },
  {
   "cell_type": "code",
   "execution_count": null,
   "metadata": {},
   "outputs": [],
   "source": []
  },
  {
   "cell_type": "code",
   "execution_count": null,
   "metadata": {},
   "outputs": [],
   "source": [
    "s = '-a, -z  ,-v,-h'\n",
    "re.split('\\s{0,},\\s{0,}', s)"
   ]
  },
  {
   "cell_type": "code",
   "execution_count": null,
   "metadata": {},
   "outputs": [],
   "source": [
    "p = ArgConfigParse.fullPath('./foo/bar/text.txt')"
   ]
  },
  {
   "cell_type": "code",
   "execution_count": null,
   "metadata": {},
   "outputs": [],
   "source": [
    "p.parent.mkdir(parents=True, exist_ok=True)"
   ]
  },
  {
   "cell_type": "code",
   "execution_count": null,
   "metadata": {},
   "outputs": [],
   "source": [
    "p.parents.mkdir(parents=True, exist_ok=True)"
   ]
  },
  {
   "cell_type": "code",
   "execution_count": null,
   "metadata": {},
   "outputs": [],
   "source": [
    "o.nested_opts_dict"
   ]
  },
  {
   "cell_type": "code",
   "execution_count": null,
   "metadata": {},
   "outputs": [],
   "source": [
    "from sys import argv"
   ]
  },
  {
   "cell_type": "code",
   "execution_count": null,
   "metadata": {},
   "outputs": [],
   "source": [
    "argv"
   ]
  },
  {
   "cell_type": "code",
   "execution_count": null,
   "metadata": {},
   "outputs": [],
   "source": [
    "argv.pop()"
   ]
  },
  {
   "cell_type": "code",
   "execution_count": null,
   "metadata": {},
   "outputs": [],
   "source": [
    "sys.argv.append(\"-vvvv\")"
   ]
  },
  {
   "cell_type": "code",
   "execution_count": null,
   "metadata": {},
   "outputs": [],
   "source": [
    "argv.append('-c')"
   ]
  },
  {
   "cell_type": "code",
   "execution_count": null,
   "metadata": {},
   "outputs": [],
   "source": [
    "argv.append('foo.ini')"
   ]
  },
  {
   "cell_type": "code",
   "execution_count": null,
   "metadata": {},
   "outputs": [],
   "source": []
  }
 ],
 "metadata": {
  "kernelspec": {
   "display_name": "automate_rsync-d-A0v8x-",
   "language": "python",
   "name": "automate_rsync-d-a0v8x-"
  },
  "language_info": {
   "codemirror_mode": {
    "name": "ipython",
    "version": 3
   },
   "file_extension": ".py",
   "mimetype": "text/x-python",
   "name": "python",
   "nbconvert_exporter": "python",
   "pygments_lexer": "ipython3",
   "version": "3.8.2"
  }
 },
 "nbformat": 4,
 "nbformat_minor": 2
}
